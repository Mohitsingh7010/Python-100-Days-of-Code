{
 "cells": [
  {
   "cell_type": "code",
   "execution_count": 1,
   "metadata": {},
   "outputs": [
    {
     "name": "stdout",
     "output_type": "stream",
     "text": [
      "enter your height in m: 1.75\n",
      "enter your weight in kg: 90\n",
      "Your BMI is 29.39, you are overweight\n"
     ]
    }
   ],
   "source": [
    "height = float(input(\"enter your height in m: \"))\n",
    "weight = float(input(\"enter your weight in kg: \"))\n",
    "\n",
    "\n",
    "BMI = round(weight/(height**2),2)\n",
    "\n",
    "if BMI < 18.5:\n",
    "  print(f'Your BMI is {BMI}, you are underweight.')\n",
    "elif BMI < 25.5:\n",
    "  print(f'Your BMI is {BMI}, you are normal weight')\n",
    "elif BMI < 30:\n",
    "  print(f'Your BMI is {BMI}, you are overweight')\n",
    "elif BMI < 35:\n",
    "  print(f'Your BMI is {BMI}, you are obese')\n",
    "else:\n",
    "  print(f'Your BMI is {BMI}, you are clinically obese')"
   ]
  },
  {
   "cell_type": "code",
   "execution_count": 29,
   "metadata": {},
   "outputs": [
    {
     "name": "stdout",
     "output_type": "stream",
     "text": [
      "Enter an year1900\n",
      "Not Leap Year.\n"
     ]
    }
   ],
   "source": [
    "year = int(input('Enter an year'))\n",
    "\n",
    "if year % 4 == 0:\n",
    "    if year % 100 == 0:\n",
    "        if year % 400 == 0:\n",
    "            print('Leap Year.')\n",
    "        else:\n",
    "            print('Not Leap Year.')\n",
    "    else:\n",
    "        print('Leap Year.')\n",
    "else:\n",
    "    print('Not Leap Year.')"
   ]
  },
  {
   "cell_type": "code",
   "execution_count": 5,
   "metadata": {},
   "outputs": [
    {
     "name": "stdout",
     "output_type": "stream",
     "text": [
      "Welcome to python pizza deliveries.\n",
      "What size do you want? L, M or Ss\n",
      "Do you want pepperoni?y\n",
      "Do you want extra cheese?y\n",
      "$20\n"
     ]
    }
   ],
   "source": [
    "print('Welcome to python pizza deliveries.')\n",
    "a = input('What size do you want? L, M or S')\n",
    "if a == 'S':\n",
    "    bill = 20\n",
    "if a == 'M':\n",
    "    bill = 25\n",
    "if a == 'L':\n",
    "    bill = 30\n",
    "pepperoni = input('Do you want pepperoni?')\n",
    "\n",
    "if pepperoni == 'Y':\n",
    "    if a == 'S':\n",
    "        bill += 2\n",
    "    else:\n",
    "        bill += 3\n",
    "cheese = input('Do you want extra cheese?')\n",
    "if cheese == 'Y':\n",
    "    bill += 1\n",
    "    \n",
    "print(f'${bill}')"
   ]
  },
  {
   "cell_type": "code",
   "execution_count": 1,
   "metadata": {},
   "outputs": [
    {
     "name": "stdout",
     "output_type": "stream",
     "text": [
      "Welcome to the Love Calculator!\n",
      "What is your name? \n",
      "Mohit\n",
      "What is their name? \n",
      "Nidhi\n",
      "Your score is 11.\n"
     ]
    }
   ],
   "source": [
    "print(\"Welcome to the Love Calculator!\")\n",
    "name1 = input(\"What is your name? \\n\")\n",
    "name2 = input(\"What is their name? \\n\")\n",
    "\n",
    "n1 = name1.lower()\n",
    "n2 = name2.lower()\n",
    "\n",
    "combine_name = n1 + n2\n",
    "\n",
    "true = combine_name.count(\"t\") + combine_name.count(\"r\") + combine_name.count(\"u\") + combine_name.count(\"e\")\n",
    "\n",
    "love = combine_name.count(\"l\") + combine_name.count(\"o\") + combine_name.count(\"v\") + combine_name.count(\"e\")\n",
    "\n",
    "\n",
    "love_score = str(true) + str(love)\n",
    "love_score = int(love_score)\n",
    "\n",
    "if love_score < 10 and love_score > 90:\n",
    "    print(f\"Your score is {love_score}, you go together like coke and mentos.\")\n",
    "elif love_score >= 40 and love_score <= 50:\n",
    "    print(f\"Your score is {love_score}, you are alright together.\")\n",
    "else:\n",
    "    print(f\"Your score is {love_score}.\")"
   ]
  },
  {
   "cell_type": "code",
   "execution_count": 4,
   "metadata": {},
   "outputs": [
    {
     "name": "stdout",
     "output_type": "stream",
     "text": [
      "Welcome to Treasure Island,Your mission is to find the treasure.\n",
      "Chose right or left\n",
      "left\n",
      "Do you want Wait or Swim?\n",
      "wait\n",
      "Which door?\n",
      "yellow\n",
      "You Win!\n"
     ]
    }
   ],
   "source": [
    "print(\"Welcome to Treasure Island,Your mission is to find the treasure.\")\n",
    "\n",
    "option1 = input('Chose right or left\\n').lower()\n",
    "if option1 == 'right':\n",
    "    print('Game Over')\n",
    "elif option1 == 'left':\n",
    "    option2 = input('Do you want Wait or Swim?\\n').lower()\n",
    "    if option2 == 'swim':\n",
    "        print('Game Over')\n",
    "    elif option2 == 'wait':\n",
    "        option3 = input('Which door?\\n').lower()\n",
    "        if option3 == 'blue':\n",
    "            print('Game Over')\n",
    "        elif option3 == 'yellow':\n",
    "            print('You Win!')\n",
    "        else:\n",
    "            print('Game Over')\n",
    "    else:\n",
    "        print('Game Over')\n",
    "else:\n",
    "    print('Game Over')"
   ]
  },
  {
   "cell_type": "code",
   "execution_count": null,
   "metadata": {},
   "outputs": [],
   "source": []
  },
  {
   "cell_type": "code",
   "execution_count": null,
   "metadata": {},
   "outputs": [],
   "source": []
  }
 ],
 "metadata": {
  "kernelspec": {
   "display_name": "Python 3",
   "language": "python",
   "name": "python3"
  },
  "language_info": {
   "codemirror_mode": {
    "name": "ipython",
    "version": 3
   },
   "file_extension": ".py",
   "mimetype": "text/x-python",
   "name": "python",
   "nbconvert_exporter": "python",
   "pygments_lexer": "ipython3",
   "version": "3.8.5"
  }
 },
 "nbformat": 4,
 "nbformat_minor": 4
}
