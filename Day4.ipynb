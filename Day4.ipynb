{
 "cells": [
  {
   "cell_type": "code",
   "execution_count": 13,
   "metadata": {},
   "outputs": [
    {
     "name": "stdout",
     "output_type": "stream",
     "text": [
      "Create a seed number: \n",
      "Head\n",
      "1\n"
     ]
    }
   ],
   "source": [
    "# Heads or Tails\n",
    "\n",
    "import random\n",
    "\n",
    "test_seed = input('Create a seed number: ')\n",
    "random.seed(test_seed)\n",
    "\n",
    "random_number = random.randint(0,1)\n",
    "if random_number == 0:\n",
    "    print('Tails')\n",
    "else:\n",
    "    print('Head')\n",
    "print(random_number)"
   ]
  },
  {
   "cell_type": "code",
   "execution_count": 26,
   "metadata": {},
   "outputs": [
    {
     "name": "stdout",
     "output_type": "stream",
     "text": [
      "Create a seed number: 465454\n",
      "Enter the names seperated by comma: Angela, Ben, Jenny, Michael, Chloe\n",
      "Angela\n"
     ]
    }
   ],
   "source": [
    "import random\n",
    "\n",
    "test_seed = input('Create a seed number: ')\n",
    "random.seed(test_seed)\n",
    "\n",
    "string = input('Enter the names seperated by comma: ')\n",
    "list_name = string.split(',')\n",
    "len_name = len(list_name)\n",
    "\n",
    "random_name = random.randint(0,len_name-1)\n",
    "print(list_name[random_name])"
   ]
  },
  {
   "cell_type": "code",
   "execution_count": 51,
   "metadata": {},
   "outputs": [
    {
     "name": "stdout",
     "output_type": "stream",
     "text": [
      "['⬜️', '⬜️', '⬜️']\n",
      "['⬜️', '⬜️', '⬜️']\n",
      "['⬜️', '⬜️', '⬜️']\n",
      "Where do you want to put the treasure? 23\n",
      "['⬜️', '⬜️', '⬜️']\n",
      "['⬜️', '⬜️', '⬜️']\n",
      "['⬜️', 'x', '⬜️']\n"
     ]
    }
   ],
   "source": [
    "row1 = [\"⬜️\",\"⬜️\",\"⬜️\"]\n",
    "row2 = [\"⬜️\",\"⬜️\",\"⬜️\"]\n",
    "row3 = [\"⬜️\",\"⬜️\",\"⬜️\"]\n",
    "\n",
    "map = [row1, row2, row3]\n",
    "print(f\"{row1}\\n{row2}\\n{row3}\")\n",
    "position = input(\"Where do you want to put the treasure? \")\n",
    "\n",
    "map[int(position[1]) - 1][int(position[0]) - 1] = 'x'\n",
    "\n",
    "# print(map[position[1]])\n",
    "print(f\"{row1}\\n{row2}\\n{row3}\")"
   ]
  },
  {
   "cell_type": "code",
   "execution_count": 25,
   "metadata": {},
   "outputs": [
    {
     "name": "stdout",
     "output_type": "stream",
     "text": [
      "What do you choose? Type 0 for Rock, 1 for Paper, 2 for scissors\n",
      "2\n",
      "\n",
      "    _______\n",
      "---'   ____)____\n",
      "          ______)\n",
      "       __________)\n",
      "      (____)\n",
      "---.__(___)\n",
      "\n",
      "Computer chose 1 \n",
      "    _______\n",
      "---'   ____)____\n",
      "          ______)\n",
      "          _______)\n",
      "         _______)\n",
      "---.__________)\n",
      "\n",
      "You Win!\n"
     ]
    }
   ],
   "source": [
    "import random\n",
    "\n",
    "rock = '''\n",
    "    _______\n",
    "---'   ____)\n",
    "      (_____)\n",
    "      (_____)\n",
    "      (____)\n",
    "---.__(___)\n",
    "'''\n",
    "\n",
    "paper = '''\n",
    "    _______\n",
    "---'   ____)____\n",
    "          ______)\n",
    "          _______)\n",
    "         _______)\n",
    "---.__________)\n",
    "'''\n",
    "\n",
    "scissors = '''\n",
    "    _______\n",
    "---'   ____)____\n",
    "          ______)\n",
    "       __________)\n",
    "      (____)\n",
    "---.__(___)\n",
    "'''\n",
    "\n",
    "user_num = int(input('What do you choose? Type 0 for Rock, 1 for Paper, 2 for scissors\\n'))\n",
    "\n",
    "if user_num  == 0:\n",
    "    print(rock)\n",
    "elif user_num == 1:\n",
    "    print(paper)\n",
    "elif user_num == 2:\n",
    "    print(scissors)\n",
    "    \n",
    "random_num = random.randint(0,2)\n",
    "\n",
    "if random_num == 0:\n",
    "    print(f'Computer chose {random_num}',rock)\n",
    "elif random_num == 1:\n",
    "    print(f'Computer chose {random_num}',paper)\n",
    "elif random_num == 2:\n",
    "    print(f'Computer chose {random_num}',scissors)\n",
    "    \n",
    "if user_num == 2 and random_num == 0:\n",
    "    print('You lose')\n",
    "elif user_num == 0 and random_num == 1:\n",
    "    print('You lose')\n",
    "elif  user_num == 1 and random_num == 2:\n",
    "    print('You lose')\n",
    "elif user_num == random_num:\n",
    "    print('It\\'s a draw')\n",
    "elif user_num > 2 or user_num < 0:\n",
    "    print('You typed an invalid number, You lose!')\n",
    "else:\n",
    "    print('You Win!')"
   ]
  },
  {
   "cell_type": "code",
   "execution_count": null,
   "metadata": {},
   "outputs": [],
   "source": []
  }
 ],
 "metadata": {
  "kernelspec": {
   "display_name": "Python 3",
   "language": "python",
   "name": "python3"
  },
  "language_info": {
   "codemirror_mode": {
    "name": "ipython",
    "version": 3
   },
   "file_extension": ".py",
   "mimetype": "text/x-python",
   "name": "python",
   "nbconvert_exporter": "python",
   "pygments_lexer": "ipython3",
   "version": "3.8.5"
  }
 },
 "nbformat": 4,
 "nbformat_minor": 4
}
