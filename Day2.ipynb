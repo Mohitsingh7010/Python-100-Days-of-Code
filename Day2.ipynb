{
 "cells": [
  {
   "cell_type": "code",
   "execution_count": 1,
   "metadata": {},
   "outputs": [
    {
     "name": "stdout",
     "output_type": "stream",
     "text": [
      "enter your height in m: 1.75\n",
      "enter your weight in kg: 56\n",
      "18.285714285714285\n"
     ]
    }
   ],
   "source": [
    "# BMI CALCULATEOR\n",
    "\n",
    "height = float(input(\"enter your height in m: \"))\n",
    "weight = float(input(\"enter your weight in kg: \"))\n",
    "\n",
    "BMI = weight/height**2\n",
    "print(BMI)"
   ]
  },
  {
   "cell_type": "code",
   "execution_count": 13,
   "metadata": {},
   "outputs": [
    {
     "name": "stdout",
     "output_type": "stream",
     "text": [
      "Enter your age 56\n",
      "You have 12410 days left and 1768 weeks left and 408 months left\n"
     ]
    }
   ],
   "source": [
    "# AGE CALCULATOR\n",
    "\n",
    "age = int(input('Enter your age '))\n",
    "a = 90\n",
    "remaining_year = a - age\n",
    "day = remaining_year * 365\n",
    "week = remaining_year * 52\n",
    "month = remaining_year * 12\n",
    "print(f\"You have {day} days left and {week} weeks left and {month} months left\")"
   ]
  },
  {
   "cell_type": "code",
   "execution_count": 1,
   "metadata": {},
   "outputs": [
    {
     "name": "stdout",
     "output_type": "stream",
     "text": [
      "Welcome to the tip calculator!\n",
      "Enter your bill amount 145.5\n",
      "What percentage would you like to give? 10, 12 or 15? 12\n",
      "how many people to split the bill?7\n",
      "Each preson should pay 23.28 \n"
     ]
    }
   ],
   "source": [
    "# TIP CALCULATOR\n",
    "\n",
    "print(\"Welcome to the tip calculator!\")\n",
    "bill = float(input('Enter your bill amount '))\n",
    "tip_per = int(input('What percentage would you like to give? 10, 12 or 15? '))\n",
    "people = int(input('how many people to split the bill?'))\n",
    "tip_bill = (bill * (tip_per/100))\n",
    "final_bill = tip_bill/people + bill/people \n",
    "total_bill = round(final_bill,2)\n",
    "print(f\"Each preson should pay {total_bill} \")"
   ]
  },
  {
   "cell_type": "code",
   "execution_count": null,
   "metadata": {},
   "outputs": [],
   "source": []
  }
 ],
 "metadata": {
  "kernelspec": {
   "display_name": "Python 3",
   "language": "python",
   "name": "python3"
  },
  "language_info": {
   "codemirror_mode": {
    "name": "ipython",
    "version": 3
   },
   "file_extension": ".py",
   "mimetype": "text/x-python",
   "name": "python",
   "nbconvert_exporter": "python",
   "pygments_lexer": "ipython3",
   "version": "3.8.5"
  }
 },
 "nbformat": 4,
 "nbformat_minor": 4
}
